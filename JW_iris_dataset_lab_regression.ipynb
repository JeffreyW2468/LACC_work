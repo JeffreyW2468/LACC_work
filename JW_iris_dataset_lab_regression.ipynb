{
  "nbformat": 4,
  "nbformat_minor": 0,
  "metadata": {
    "colab": {
      "name": "JW iris_dataset_lab_regression.ipynb",
      "provenance": [],
      "collapsed_sections": [],
      "include_colab_link": true
    },
    "kernelspec": {
      "name": "python3",
      "display_name": "Python 3"
    },
    "language_info": {
      "name": "python"
    }
  },
  "cells": [
    {
      "cell_type": "markdown",
      "metadata": {
        "id": "view-in-github",
        "colab_type": "text"
      },
      "source": [
        "<a href=\"https://colab.research.google.com/github/JeffreyW2468/LACC_work/blob/main/JW_iris_dataset_lab_regression.ipynb\" target=\"_parent\"><img src=\"https://colab.research.google.com/assets/colab-badge.svg\" alt=\"Open In Colab\"/></a>"
      ]
    },
    {
      "cell_type": "markdown",
      "metadata": {
        "id": "OCqRDS_8PTbS"
      },
      "source": [
        "# Part 2"
      ]
    },
    {
      "cell_type": "markdown",
      "metadata": {
        "id": "4cTRI6hhk_N0"
      },
      "source": [
        "Now it's time to do it yourself. There are two problems in this lab, one is for linear regression and the other is for perceptron. **For the first problem you need to download advertising.csv from github.**\n",
        "\n",
        " Data loading is done for you (**you still need to assign columns to X and y and do train/test split**), and you need to implement everything else yourself. \n",
        "\n",
        "For the problem, we are using the advertising dataset, which use advertising information on TV, Radio and Newspaper to predict sales number."
      ]
    },
    {
      "cell_type": "code",
      "metadata": {
        "id": "4yD2WyEfWif-",
        "colab": {
          "base_uri": "https://localhost:8080/",
          "height": 204
        },
        "outputId": "a310b43d-78e5-4725-ac22-9fb4bd66af3c"
      },
      "source": [
        "import pandas as pd\n",
        "import numpy as np\n",
        "from matplotlib import pyplot as plt\n",
        "\n",
        "df = pd.read_csv('./advertising.csv')\n",
        "df.head()"
      ],
      "execution_count": 2,
      "outputs": [
        {
          "output_type": "execute_result",
          "data": {
            "text/html": [
              "<div>\n",
              "<style scoped>\n",
              "    .dataframe tbody tr th:only-of-type {\n",
              "        vertical-align: middle;\n",
              "    }\n",
              "\n",
              "    .dataframe tbody tr th {\n",
              "        vertical-align: top;\n",
              "    }\n",
              "\n",
              "    .dataframe thead th {\n",
              "        text-align: right;\n",
              "    }\n",
              "</style>\n",
              "<table border=\"1\" class=\"dataframe\">\n",
              "  <thead>\n",
              "    <tr style=\"text-align: right;\">\n",
              "      <th></th>\n",
              "      <th>TV</th>\n",
              "      <th>Radio</th>\n",
              "      <th>Newspaper</th>\n",
              "      <th>Sales</th>\n",
              "    </tr>\n",
              "  </thead>\n",
              "  <tbody>\n",
              "    <tr>\n",
              "      <th>0</th>\n",
              "      <td>230.1</td>\n",
              "      <td>37.8</td>\n",
              "      <td>69.2</td>\n",
              "      <td>22.1</td>\n",
              "    </tr>\n",
              "    <tr>\n",
              "      <th>1</th>\n",
              "      <td>44.5</td>\n",
              "      <td>39.3</td>\n",
              "      <td>45.1</td>\n",
              "      <td>10.4</td>\n",
              "    </tr>\n",
              "    <tr>\n",
              "      <th>2</th>\n",
              "      <td>17.2</td>\n",
              "      <td>45.9</td>\n",
              "      <td>69.3</td>\n",
              "      <td>12.0</td>\n",
              "    </tr>\n",
              "    <tr>\n",
              "      <th>3</th>\n",
              "      <td>151.5</td>\n",
              "      <td>41.3</td>\n",
              "      <td>58.5</td>\n",
              "      <td>16.5</td>\n",
              "    </tr>\n",
              "    <tr>\n",
              "      <th>4</th>\n",
              "      <td>180.8</td>\n",
              "      <td>10.8</td>\n",
              "      <td>58.4</td>\n",
              "      <td>17.9</td>\n",
              "    </tr>\n",
              "  </tbody>\n",
              "</table>\n",
              "</div>"
            ],
            "text/plain": [
              "      TV  Radio  Newspaper  Sales\n",
              "0  230.1   37.8       69.2   22.1\n",
              "1   44.5   39.3       45.1   10.4\n",
              "2   17.2   45.9       69.3   12.0\n",
              "3  151.5   41.3       58.5   16.5\n",
              "4  180.8   10.8       58.4   17.9"
            ]
          },
          "metadata": {
            "tags": []
          },
          "execution_count": 2
        }
      ]
    },
    {
      "cell_type": "markdown",
      "metadata": {
        "id": "MOyo_lh0nC8N"
      },
      "source": [
        "Implement the rest yourself, don't forget you can use seaborn to visualize the dataset."
      ]
    },
    {
      "cell_type": "code",
      "metadata": {
        "id": "YvdP5P8snDUq",
        "colab": {
          "base_uri": "https://localhost:8080/",
          "height": 520
        },
        "outputId": "8c12fa20-d228-4a1d-beee-f2099e8acc08"
      },
      "source": [
        "\n",
        "# your code for data generation, what is the targer for this dataset?\n",
        "X = df[['TV', 'Radio', 'Newspaper']]\n",
        "y =  df['Sales']#should be the target column\n",
        "# Don't forget to do train test split!\n",
        "from sklearn.model_selection import train_test_split\n",
        "from sklearn.linear_model import LinearRegression\n",
        "X_train, X_test, y_train, y_test = train_test_split(X,y, test_size=0.4)\n",
        "\n",
        "regressor = LinearRegression()\n",
        "regressor.fit(X_train, y_train)\n",
        "#Load the model from sklearn and use it for prediction\n",
        "predictions = regressor.predict(X_test)\n",
        "print(predictions)\n",
        "plt.scatter(y_test,predictions)"
      ],
      "execution_count": 7,
      "outputs": [
        {
          "output_type": "stream",
          "text": [
            "[12.25333748 21.05042599 20.9811572   7.39878055 15.82946484 15.07650349\n",
            "  8.35008291  9.47559409 15.49240765 24.59670906 19.13628269  8.33038136\n",
            " 17.96740012 15.51351507 10.04699329 10.58725207 12.62737815 23.8934928\n",
            "  9.41216829 18.02001642 23.30465192 15.7470194  12.39208618  7.37572797\n",
            " 10.54033239 13.41032189 12.74943451 21.83962076 13.2443006  13.77964906\n",
            "  8.09907336 12.52474104 13.30231377 16.36742631 19.40801307 12.52049741\n",
            " 19.23629923 11.28198135 11.87978656  9.48878414 10.27096795 17.74814604\n",
            " 15.81608501 14.75232372 11.60790354  9.01870825 16.85494497 18.08321957\n",
            "  6.38818983  7.47014766 10.04383739 17.15430459 23.46201509  5.74619529\n",
            " 15.00181641  9.96638268 19.93698689 22.83889007  8.21369265 20.89584576\n",
            " 16.97129649 14.06277585 20.00887346 10.80062287 16.74671979 16.51626409\n",
            " 10.13527109 18.79330122 10.00791153 18.69938822 23.15857862 20.46250665\n",
            " 20.59376573 15.22066601 20.95382913 11.01223169  9.07418708 12.9919148\n",
            "  9.56390912 22.39567696]\n"
          ],
          "name": "stdout"
        },
        {
          "output_type": "execute_result",
          "data": {
            "text/plain": [
              "<matplotlib.collections.PathCollection at 0x7f32b56f1610>"
            ]
          },
          "metadata": {
            "tags": []
          },
          "execution_count": 7
        },
        {
          "output_type": "display_data",
          "data": {
            "image/png": "[encoded data removed]",
            "text/plain": [
              "<Figure size 432x288 with 1 Axes>"
            ]
          },
          "metadata": {
            "tags": [],
            "needs_background": "light"
          }
        }
      ]
    },
    {
      "cell_type": "markdown",
      "metadata": {
        "id": "ACR-OK1jcdFc"
      },
      "source": [
        "Now let's try to apply MLP on the famous iris dataset\n",
        "Iris dataset contains 3 classes of 50 instances each, where each class refers to a type of iris plant. It's a good toy dataset for classification tasks"
      ]
    },
    {
      "cell_type": "code",
      "metadata": {
        "id": "A8DoXRVnccL0",
        "colab": {
          "base_uri": "https://localhost:8080/"
        },
        "outputId": "175127e5-9d4a-4a71-bc86-5f9ebed9ce5a"
      },
      "source": [
        "#First download the dataset from sklearn, and then loaded into panda dataframe for easier visualization and processing.\n",
        "#!wget -L https://raw.githubusercontent.com/scikit-learn/scikit-learn/main/sklearn/datasets/data/iris.csv\n",
        "import numpy as np\n",
        "import pandas as pd\n",
        "from sklearn.datasets import load_iris\n",
        "\n",
        "iris = load_iris()\n",
        "data_iris = pd.DataFrame(data= np.c_[iris['data'], iris['target']],\n",
        "                     columns= iris['feature_names'] + ['target'])\n"
      ],
      "execution_count": 8,
      "outputs": [
        {
          "output_type": "stream",
          "text": [
            "--2021-07-20 19:17:06--  https://raw.githubusercontent.com/scikit-learn/scikit-learn/main/sklearn/datasets/data/iris.csv\n",
            "Resolving raw.githubusercontent.com (raw.githubusercontent.com)... 185.199.108.133, 185.199.109.133, 185.199.110.133, ...\n",
            "Connecting to raw.githubusercontent.com (raw.githubusercontent.com)|185.199.108.133|:443... connected.\n",
            "HTTP request sent, awaiting response... 200 OK\n",
            "Length: 2734 (2.7K) [text/plain]\n",
            "Saving to: ‘iris.csv’\n",
            "\n",
            "\riris.csv              0%[                    ]       0  --.-KB/s               \riris.csv            100%[===================>]   2.67K  --.-KB/s    in 0s      \n",
            "\n",
            "2021-07-20 19:17:06 (31.0 MB/s) - ‘iris.csv’ saved [2734/2734]\n",
            "\n"
          ],
          "name": "stdout"
        }
      ]
    },
    {
      "cell_type": "code",
      "metadata": {
        "id": "wbkDeOFReNuo",
        "colab": {
          "base_uri": "https://localhost:8080/",
          "height": 408
        },
        "outputId": "c99e999f-9b1e-4d4f-baf3-a5deb27b04b8"
      },
      "source": [
        "#Now print the columns\n",
        "data_iris.info()\n",
        "data_iris.head()"
      ],
      "execution_count": 10,
      "outputs": [
        {
          "output_type": "stream",
          "text": [
            "<class 'pandas.core.frame.DataFrame'>\n",
            "RangeIndex: 150 entries, 0 to 149\n",
            "Data columns (total 5 columns):\n",
            " #   Column             Non-Null Count  Dtype  \n",
            "---  ------             --------------  -----  \n",
            " 0   sepal length (cm)  150 non-null    float64\n",
            " 1   sepal width (cm)   150 non-null    float64\n",
            " 2   petal length (cm)  150 non-null    float64\n",
            " 3   petal width (cm)   150 non-null    float64\n",
            " 4   target             150 non-null    float64\n",
            "dtypes: float64(5)\n",
            "memory usage: 6.0 KB\n"
          ],
          "name": "stdout"
        },
        {
          "output_type": "execute_result",
          "data": {
            "text/html": [
              "<div>\n",
              "<style scoped>\n",
              "    .dataframe tbody tr th:only-of-type {\n",
              "        vertical-align: middle;\n",
              "    }\n",
              "\n",
              "    .dataframe tbody tr th {\n",
              "        vertical-align: top;\n",
              "    }\n",
              "\n",
              "    .dataframe thead th {\n",
              "        text-align: right;\n",
              "    }\n",
              "</style>\n",
              "<table border=\"1\" class=\"dataframe\">\n",
              "  <thead>\n",
              "    <tr style=\"text-align: right;\">\n",
              "      <th></th>\n",
              "      <th>sepal length (cm)</th>\n",
              "      <th>sepal width (cm)</th>\n",
              "      <th>petal length (cm)</th>\n",
              "      <th>petal width (cm)</th>\n",
              "      <th>target</th>\n",
              "    </tr>\n",
              "  </thead>\n",
              "  <tbody>\n",
              "    <tr>\n",
              "      <th>0</th>\n",
              "      <td>5.1</td>\n",
              "      <td>3.5</td>\n",
              "      <td>1.4</td>\n",
              "      <td>0.2</td>\n",
              "      <td>0.0</td>\n",
              "    </tr>\n",
              "    <tr>\n",
              "      <th>1</th>\n",
              "      <td>4.9</td>\n",
              "      <td>3.0</td>\n",
              "      <td>1.4</td>\n",
              "      <td>0.2</td>\n",
              "      <td>0.0</td>\n",
              "    </tr>\n",
              "    <tr>\n",
              "      <th>2</th>\n",
              "      <td>4.7</td>\n",
              "      <td>3.2</td>\n",
              "      <td>1.3</td>\n",
              "      <td>0.2</td>\n",
              "      <td>0.0</td>\n",
              "    </tr>\n",
              "    <tr>\n",
              "      <th>3</th>\n",
              "      <td>4.6</td>\n",
              "      <td>3.1</td>\n",
              "      <td>1.5</td>\n",
              "      <td>0.2</td>\n",
              "      <td>0.0</td>\n",
              "    </tr>\n",
              "    <tr>\n",
              "      <th>4</th>\n",
              "      <td>5.0</td>\n",
              "      <td>3.6</td>\n",
              "      <td>1.4</td>\n",
              "      <td>0.2</td>\n",
              "      <td>0.0</td>\n",
              "    </tr>\n",
              "  </tbody>\n",
              "</table>\n",
              "</div>"
            ],
            "text/plain": [
              "   sepal length (cm)  sepal width (cm)  ...  petal width (cm)  target\n",
              "0                5.1               3.5  ...               0.2     0.0\n",
              "1                4.9               3.0  ...               0.2     0.0\n",
              "2                4.7               3.2  ...               0.2     0.0\n",
              "3                4.6               3.1  ...               0.2     0.0\n",
              "4                5.0               3.6  ...               0.2     0.0\n",
              "\n",
              "[5 rows x 5 columns]"
            ]
          },
          "metadata": {
            "tags": []
          },
          "execution_count": 10
        }
      ]
    },
    {
      "cell_type": "markdown",
      "metadata": {
        "id": "D5GuRCS9em34"
      },
      "source": [
        "Now use try to creat your own train and test set from the loaded panda dataframe, remember to first create x and Y by choosing corresponding colomns. Here y should be the target colummn."
      ]
    },
    {
      "cell_type": "markdown",
      "metadata": {
        "id": "uy8AFbhjfbGF"
      },
      "source": [
        "For your convinence, this time we will not implement Perceptron from scratch. Again we use the model from sklearn."
      ]
    },
    {
      "cell_type": "code",
      "metadata": {
        "id": "dkYn5gfsdyfw"
      },
      "source": [
        "from sklearn.linear_model import Perceptron\n",
        "\n",
        "model = Perceptron()#use the perceptron model provided by sklearn\n",
        "#complete the rest of the code to finish the training\n",
        "#The format of using the perceptron model is almost same as regression model\n",
        "model.fit(X_train, y_train)\n",
        "y_pred = model.predict(X_test)"
      ],
      "execution_count": 15,
      "outputs": []
    },
    {
      "cell_type": "markdown",
      "metadata": {
        "id": "0k3Qa4f7nAvK"
      },
      "source": [
        "Finally, use sklearn's accuraccy score function to evalutate the classification accuracy of the trained model on test set"
      ]
    },
    {
      "cell_type": "code",
      "metadata": {
        "id": "7zE6fDQ2eeK8",
        "colab": {
          "base_uri": "https://localhost:8080/",
          "height": 452
        },
        "outputId": "552cac92-a4ac-45d7-f236-12b422ecb990"
      },
      "source": [
        "# your code for data generation.\n",
        "X = data_iris[['sepal length (cm)', 'sepal width (cm)', 'petal length (cm)', 'petal width (cm)']]\n",
        "y = data_iris['target']\n",
        "# Don't forget to do train test split!\n",
        "\n",
        "from sklearn.model_selection import train_test_split\n",
        "from sklearn.linear_model import LinearRegression\n",
        "X_train, X_test, y_train, y_test = train_test_split(X,y, test_size=0.2, random_state = 101)\n",
        "\n",
        "regressor = LinearRegression()\n",
        "regressor.fit(X_train, y_train)\n",
        "#Load the model from sklearn and use it for prediction\n",
        "predictions = regressor.predict(X_test)\n",
        "print(predictions)\n",
        "plt.scatter(y_test,predictions)"
      ],
      "execution_count": 12,
      "outputs": [
        {
          "output_type": "stream",
          "text": [
            "[ 0.22784646  0.06468561  1.55513741  2.22771107  1.32519684  0.87384971\n",
            " -0.12648538  1.30987894 -0.02375462  1.23309744 -0.13282798 -0.09030499\n",
            "  1.20067046  1.4339149   1.35333822  2.14646393  1.37781585  1.03281533\n",
            "  1.22483752  1.1891021  -0.09673725  2.3335262  -0.06475596  2.17563198\n",
            "  1.38942508 -0.1046866  -0.01303218 -0.11433694  1.32787956 -0.1400165\n",
            "  1.65826982  0.9090452   2.08411724  1.81522776  2.04029349  0.89198087\n",
            " -0.10071157  1.33529286  1.20562652  1.04161517  2.05436454  0.02251863\n",
            "  1.23430324 -0.09481536 -0.16471504 -0.15190001  1.78601885  2.07526808\n",
            "  1.51971785 -0.08387272  1.36128757  1.19767717  1.22461275  1.38509474\n",
            "  1.21634825  2.09572576 -0.02612149  0.14195842  2.13346887 -0.01249683]\n"
          ],
          "name": "stdout"
        },
        {
          "output_type": "execute_result",
          "data": {
            "text/plain": [
              "<matplotlib.collections.PathCollection at 0x7f32b3ddad50>"
            ]
          },
          "metadata": {
            "tags": []
          },
          "execution_count": 12
        },
        {
          "output_type": "display_data",
          "data": {
            "image/png": "[encoded data removed]",
            "text/plain": [
              "<Figure size 432x288 with 1 Axes>"
            ]
          },
          "metadata": {
            "tags": [],
            "needs_background": "light"
          }
        }
      ]
    },
    {
      "cell_type": "code",
      "metadata": {
        "id": "7if2dzRZfy-M",
        "colab": {
          "base_uri": "https://localhost:8080/"
        },
        "outputId": "92e6fdff-294e-43c6-f0b7-3dc1b201d8ed"
      },
      "source": [
        "from sklearn.metrics import accuracy_score\n",
        "print(accuracy_score(y_test, y_pred)) #change y_true and y_pred to your own name if necessery"
      ],
      "execution_count": 17,
      "outputs": [
        {
          "output_type": "stream",
          "text": [
            "0.8333333333333334\n"
          ],
          "name": "stdout"
        }
      ]
    }
  ]
}